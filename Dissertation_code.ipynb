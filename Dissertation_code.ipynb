{
 "cells": [
  {
   "cell_type": "code",
   "execution_count": 1,
   "metadata": {},
   "outputs": [
    {
     "data": {
      "text/html": [
       "<div>\n",
       "<style scoped>\n",
       "    .dataframe tbody tr th:only-of-type {\n",
       "        vertical-align: middle;\n",
       "    }\n",
       "\n",
       "    .dataframe tbody tr th {\n",
       "        vertical-align: top;\n",
       "    }\n",
       "\n",
       "    .dataframe thead th {\n",
       "        text-align: right;\n",
       "    }\n",
       "</style>\n",
       "<table border=\"1\" class=\"dataframe\">\n",
       "  <thead>\n",
       "    <tr style=\"text-align: right;\">\n",
       "      <th></th>\n",
       "      <th>Year</th>\n",
       "      <th>Num_LGV</th>\n",
       "      <th>Num_HGV</th>\n",
       "      <th>OL_Sales</th>\n",
       "      <th>OffL_Sales</th>\n",
       "      <th>Dispo_Income</th>\n",
       "      <th>GDP_Deflator</th>\n",
       "      <th>Employ_Rate</th>\n",
       "      <th>Num_household</th>\n",
       "      <th>Per_Childern</th>\n",
       "      <th>Per_Retired</th>\n",
       "      <th>Neighb_Trust</th>\n",
       "      <th>Popu_Density</th>\n",
       "      <th>Num_PassenCars</th>\n",
       "    </tr>\n",
       "  </thead>\n",
       "  <tbody>\n",
       "    <tr>\n",
       "      <th>0</th>\n",
       "      <td>2009</td>\n",
       "      <td>3223.728</td>\n",
       "      <td>498.626</td>\n",
       "      <td>1728.9</td>\n",
       "      <td>3574.8</td>\n",
       "      <td>43967</td>\n",
       "      <td>79.2</td>\n",
       "      <td>71.3</td>\n",
       "      <td>26041.800000</td>\n",
       "      <td>37.532479</td>\n",
       "      <td>15.606431</td>\n",
       "      <td>20.0</td>\n",
       "      <td>254.817444</td>\n",
       "      <td>16653</td>\n",
       "    </tr>\n",
       "    <tr>\n",
       "      <th>1</th>\n",
       "      <td>2010</td>\n",
       "      <td>3207.791</td>\n",
       "      <td>470.128</td>\n",
       "      <td>2024.6</td>\n",
       "      <td>4194.9</td>\n",
       "      <td>48655</td>\n",
       "      <td>81.1</td>\n",
       "      <td>70.8</td>\n",
       "      <td>26240.200000</td>\n",
       "      <td>37.760601</td>\n",
       "      <td>15.807613</td>\n",
       "      <td>27.0</td>\n",
       "      <td>256.755673</td>\n",
       "      <td>19686</td>\n",
       "    </tr>\n",
       "    <tr>\n",
       "      <th>2</th>\n",
       "      <td>2011</td>\n",
       "      <td>3248.293</td>\n",
       "      <td>465.473</td>\n",
       "      <td>2613.7</td>\n",
       "      <td>5020.9</td>\n",
       "      <td>46667</td>\n",
       "      <td>83.3</td>\n",
       "      <td>70.6</td>\n",
       "      <td>26408.600000</td>\n",
       "      <td>37.457668</td>\n",
       "      <td>16.143746</td>\n",
       "      <td>26.5</td>\n",
       "      <td>260.974865</td>\n",
       "      <td>20828</td>\n",
       "    </tr>\n",
       "    <tr>\n",
       "      <th>3</th>\n",
       "      <td>2012</td>\n",
       "      <td>3207.791</td>\n",
       "      <td>470.128</td>\n",
       "      <td>2772.2</td>\n",
       "      <td>5916.1</td>\n",
       "      <td>48546</td>\n",
       "      <td>86.1</td>\n",
       "      <td>71.4</td>\n",
       "      <td>26614.000000</td>\n",
       "      <td>37.995699</td>\n",
       "      <td>16.421021</td>\n",
       "      <td>23.0</td>\n",
       "      <td>262.706448</td>\n",
       "      <td>21206</td>\n",
       "    </tr>\n",
       "    <tr>\n",
       "      <th>4</th>\n",
       "      <td>2013</td>\n",
       "      <td>3353.894</td>\n",
       "      <td>468.876</td>\n",
       "      <td>3660.7</td>\n",
       "      <td>6880.5</td>\n",
       "      <td>43485</td>\n",
       "      <td>89.5</td>\n",
       "      <td>71.9</td>\n",
       "      <td>26660.600000</td>\n",
       "      <td>38.233324</td>\n",
       "      <td>16.857928</td>\n",
       "      <td>23.0</td>\n",
       "      <td>264.358853</td>\n",
       "      <td>25188</td>\n",
       "    </tr>\n",
       "    <tr>\n",
       "      <th>5</th>\n",
       "      <td>2014</td>\n",
       "      <td>3485.657</td>\n",
       "      <td>476.010</td>\n",
       "      <td>4634.5</td>\n",
       "      <td>7915.5</td>\n",
       "      <td>45977</td>\n",
       "      <td>93.4</td>\n",
       "      <td>73.2</td>\n",
       "      <td>26731.900000</td>\n",
       "      <td>38.121335</td>\n",
       "      <td>17.074991</td>\n",
       "      <td>28.0</td>\n",
       "      <td>266.384049</td>\n",
       "      <td>28047</td>\n",
       "    </tr>\n",
       "    <tr>\n",
       "      <th>6</th>\n",
       "      <td>2015</td>\n",
       "      <td>3633.578</td>\n",
       "      <td>483.361</td>\n",
       "      <td>4430.7</td>\n",
       "      <td>9013.3</td>\n",
       "      <td>43661</td>\n",
       "      <td>96.1</td>\n",
       "      <td>73.9</td>\n",
       "      <td>27041.500000</td>\n",
       "      <td>38.442945</td>\n",
       "      <td>17.378274</td>\n",
       "      <td>34.0</td>\n",
       "      <td>268.500381</td>\n",
       "      <td>31554</td>\n",
       "    </tr>\n",
       "    <tr>\n",
       "      <th>7</th>\n",
       "      <td>2016</td>\n",
       "      <td>3781.984</td>\n",
       "      <td>493.638</td>\n",
       "      <td>6037.4</td>\n",
       "      <td>10937.1</td>\n",
       "      <td>37869</td>\n",
       "      <td>100.0</td>\n",
       "      <td>74.7</td>\n",
       "      <td>27088.700000</td>\n",
       "      <td>38.552387</td>\n",
       "      <td>17.414606</td>\n",
       "      <td>34.5</td>\n",
       "      <td>270.719396</td>\n",
       "      <td>33490</td>\n",
       "    </tr>\n",
       "    <tr>\n",
       "      <th>8</th>\n",
       "      <td>2017</td>\n",
       "      <td>3898.149</td>\n",
       "      <td>499.353</td>\n",
       "      <td>7056.0</td>\n",
       "      <td>12664.5</td>\n",
       "      <td>40377</td>\n",
       "      <td>103.9</td>\n",
       "      <td>75.3</td>\n",
       "      <td>27227.700000</td>\n",
       "      <td>38.014384</td>\n",
       "      <td>17.552552</td>\n",
       "      <td>35.0</td>\n",
       "      <td>272.336337</td>\n",
       "      <td>34114</td>\n",
       "    </tr>\n",
       "    <tr>\n",
       "      <th>9</th>\n",
       "      <td>2018</td>\n",
       "      <td>4009.887</td>\n",
       "      <td>500.287</td>\n",
       "      <td>7400.4</td>\n",
       "      <td>14508.4</td>\n",
       "      <td>42813</td>\n",
       "      <td>107.6</td>\n",
       "      <td>75.7</td>\n",
       "      <td>27379.826828</td>\n",
       "      <td>38.342123</td>\n",
       "      <td>17.812739</td>\n",
       "      <td>31.5</td>\n",
       "      <td>273.966886</td>\n",
       "      <td>32887</td>\n",
       "    </tr>\n",
       "  </tbody>\n",
       "</table>\n",
       "</div>"
      ],
      "text/plain": [
       "   Year   Num_LGV  Num_HGV  OL_Sales  OffL_Sales  Dispo_Income  GDP_Deflator  \\\n",
       "0  2009  3223.728  498.626    1728.9      3574.8         43967          79.2   \n",
       "1  2010  3207.791  470.128    2024.6      4194.9         48655          81.1   \n",
       "2  2011  3248.293  465.473    2613.7      5020.9         46667          83.3   \n",
       "3  2012  3207.791  470.128    2772.2      5916.1         48546          86.1   \n",
       "4  2013  3353.894  468.876    3660.7      6880.5         43485          89.5   \n",
       "5  2014  3485.657  476.010    4634.5      7915.5         45977          93.4   \n",
       "6  2015  3633.578  483.361    4430.7      9013.3         43661          96.1   \n",
       "7  2016  3781.984  493.638    6037.4     10937.1         37869         100.0   \n",
       "8  2017  3898.149  499.353    7056.0     12664.5         40377         103.9   \n",
       "9  2018  4009.887  500.287    7400.4     14508.4         42813         107.6   \n",
       "\n",
       "   Employ_Rate  Num_household  Per_Childern  Per_Retired  Neighb_Trust  \\\n",
       "0         71.3   26041.800000     37.532479    15.606431          20.0   \n",
       "1         70.8   26240.200000     37.760601    15.807613          27.0   \n",
       "2         70.6   26408.600000     37.457668    16.143746          26.5   \n",
       "3         71.4   26614.000000     37.995699    16.421021          23.0   \n",
       "4         71.9   26660.600000     38.233324    16.857928          23.0   \n",
       "5         73.2   26731.900000     38.121335    17.074991          28.0   \n",
       "6         73.9   27041.500000     38.442945    17.378274          34.0   \n",
       "7         74.7   27088.700000     38.552387    17.414606          34.5   \n",
       "8         75.3   27227.700000     38.014384    17.552552          35.0   \n",
       "9         75.7   27379.826828     38.342123    17.812739          31.5   \n",
       "\n",
       "   Popu_Density  Num_PassenCars  \n",
       "0    254.817444           16653  \n",
       "1    256.755673           19686  \n",
       "2    260.974865           20828  \n",
       "3    262.706448           21206  \n",
       "4    264.358853           25188  \n",
       "5    266.384049           28047  \n",
       "6    268.500381           31554  \n",
       "7    270.719396           33490  \n",
       "8    272.336337           34114  \n",
       "9    273.966886           32887  "
      ]
     },
     "execution_count": 1,
     "metadata": {},
     "output_type": "execute_result"
    }
   ],
   "source": [
    "import numpy as np\n",
    "import pandas as pd\n",
    "\n",
    "from sklearn import datasets, linear_model      #use linear_model in sklearnlinear_model\n",
    "from sklearn.metrics import mean_squared_error, r2_score\n",
    "import matplotlib.pyplot as plt\n",
    "\n",
    "path=r'C:\\Users\\Yufei\\Desktop\\data.xlsx'\n",
    "data=pd.read_excel(path)# read data\n",
    "data\n"
   ]
  },
  {
   "cell_type": "code",
   "execution_count": 49,
   "metadata": {},
   "outputs": [
    {
     "data": {
      "text/html": [
       "<div>\n",
       "<style scoped>\n",
       "    .dataframe tbody tr th:only-of-type {\n",
       "        vertical-align: middle;\n",
       "    }\n",
       "\n",
       "    .dataframe tbody tr th {\n",
       "        vertical-align: top;\n",
       "    }\n",
       "\n",
       "    .dataframe thead th {\n",
       "        text-align: right;\n",
       "    }\n",
       "</style>\n",
       "<table border=\"1\" class=\"dataframe\">\n",
       "  <thead>\n",
       "    <tr style=\"text-align: right;\">\n",
       "      <th></th>\n",
       "      <th>Year</th>\n",
       "      <th>Num_LGV</th>\n",
       "      <th>Num_HGV</th>\n",
       "      <th>OL_Sales</th>\n",
       "      <th>OffL_Sales</th>\n",
       "      <th>Dispo_Income</th>\n",
       "      <th>GDP_Deflator</th>\n",
       "      <th>Employ_Rate</th>\n",
       "      <th>Num_household</th>\n",
       "      <th>Per_Childern</th>\n",
       "      <th>Per_Retired</th>\n",
       "      <th>Neighb_Trust</th>\n",
       "      <th>Popu_Density</th>\n",
       "      <th>Num_PassenCars</th>\n",
       "      <th>Num_freight</th>\n",
       "      <th>Num_Freight</th>\n",
       "    </tr>\n",
       "  </thead>\n",
       "  <tbody>\n",
       "    <tr>\n",
       "      <th>0</th>\n",
       "      <td>2009</td>\n",
       "      <td>3223.728</td>\n",
       "      <td>498.626</td>\n",
       "      <td>1728.9</td>\n",
       "      <td>3574.8</td>\n",
       "      <td>43967</td>\n",
       "      <td>79.2</td>\n",
       "      <td>71.3</td>\n",
       "      <td>26041.800000</td>\n",
       "      <td>37.532479</td>\n",
       "      <td>15.606431</td>\n",
       "      <td>20.0</td>\n",
       "      <td>254.817444</td>\n",
       "      <td>16653</td>\n",
       "      <td>3722.354</td>\n",
       "      <td>3722.354</td>\n",
       "    </tr>\n",
       "    <tr>\n",
       "      <th>1</th>\n",
       "      <td>2010</td>\n",
       "      <td>3207.791</td>\n",
       "      <td>470.128</td>\n",
       "      <td>2024.6</td>\n",
       "      <td>4194.9</td>\n",
       "      <td>48655</td>\n",
       "      <td>81.1</td>\n",
       "      <td>70.8</td>\n",
       "      <td>26240.200000</td>\n",
       "      <td>37.760601</td>\n",
       "      <td>15.807613</td>\n",
       "      <td>27.0</td>\n",
       "      <td>256.755673</td>\n",
       "      <td>19686</td>\n",
       "      <td>3677.919</td>\n",
       "      <td>3677.919</td>\n",
       "    </tr>\n",
       "    <tr>\n",
       "      <th>2</th>\n",
       "      <td>2011</td>\n",
       "      <td>3248.293</td>\n",
       "      <td>465.473</td>\n",
       "      <td>2613.7</td>\n",
       "      <td>5020.9</td>\n",
       "      <td>46667</td>\n",
       "      <td>83.3</td>\n",
       "      <td>70.6</td>\n",
       "      <td>26408.600000</td>\n",
       "      <td>37.457668</td>\n",
       "      <td>16.143746</td>\n",
       "      <td>26.5</td>\n",
       "      <td>260.974865</td>\n",
       "      <td>20828</td>\n",
       "      <td>3713.766</td>\n",
       "      <td>3713.766</td>\n",
       "    </tr>\n",
       "    <tr>\n",
       "      <th>3</th>\n",
       "      <td>2012</td>\n",
       "      <td>3207.791</td>\n",
       "      <td>470.128</td>\n",
       "      <td>2772.2</td>\n",
       "      <td>5916.1</td>\n",
       "      <td>48546</td>\n",
       "      <td>86.1</td>\n",
       "      <td>71.4</td>\n",
       "      <td>26614.000000</td>\n",
       "      <td>37.995699</td>\n",
       "      <td>16.421021</td>\n",
       "      <td>23.0</td>\n",
       "      <td>262.706448</td>\n",
       "      <td>21206</td>\n",
       "      <td>3677.919</td>\n",
       "      <td>3677.919</td>\n",
       "    </tr>\n",
       "    <tr>\n",
       "      <th>4</th>\n",
       "      <td>2013</td>\n",
       "      <td>3353.894</td>\n",
       "      <td>468.876</td>\n",
       "      <td>3660.7</td>\n",
       "      <td>6880.5</td>\n",
       "      <td>43485</td>\n",
       "      <td>89.5</td>\n",
       "      <td>71.9</td>\n",
       "      <td>26660.600000</td>\n",
       "      <td>38.233324</td>\n",
       "      <td>16.857928</td>\n",
       "      <td>23.0</td>\n",
       "      <td>264.358853</td>\n",
       "      <td>25188</td>\n",
       "      <td>3822.770</td>\n",
       "      <td>3822.770</td>\n",
       "    </tr>\n",
       "    <tr>\n",
       "      <th>5</th>\n",
       "      <td>2014</td>\n",
       "      <td>3485.657</td>\n",
       "      <td>476.010</td>\n",
       "      <td>4634.5</td>\n",
       "      <td>7915.5</td>\n",
       "      <td>45977</td>\n",
       "      <td>93.4</td>\n",
       "      <td>73.2</td>\n",
       "      <td>26731.900000</td>\n",
       "      <td>38.121335</td>\n",
       "      <td>17.074991</td>\n",
       "      <td>28.0</td>\n",
       "      <td>266.384049</td>\n",
       "      <td>28047</td>\n",
       "      <td>3961.667</td>\n",
       "      <td>3961.667</td>\n",
       "    </tr>\n",
       "    <tr>\n",
       "      <th>6</th>\n",
       "      <td>2015</td>\n",
       "      <td>3633.578</td>\n",
       "      <td>483.361</td>\n",
       "      <td>4430.7</td>\n",
       "      <td>9013.3</td>\n",
       "      <td>43661</td>\n",
       "      <td>96.1</td>\n",
       "      <td>73.9</td>\n",
       "      <td>27041.500000</td>\n",
       "      <td>38.442945</td>\n",
       "      <td>17.378274</td>\n",
       "      <td>34.0</td>\n",
       "      <td>268.500381</td>\n",
       "      <td>31554</td>\n",
       "      <td>4116.939</td>\n",
       "      <td>4116.939</td>\n",
       "    </tr>\n",
       "    <tr>\n",
       "      <th>7</th>\n",
       "      <td>2016</td>\n",
       "      <td>3781.984</td>\n",
       "      <td>493.638</td>\n",
       "      <td>6037.4</td>\n",
       "      <td>10937.1</td>\n",
       "      <td>37869</td>\n",
       "      <td>100.0</td>\n",
       "      <td>74.7</td>\n",
       "      <td>27088.700000</td>\n",
       "      <td>38.552387</td>\n",
       "      <td>17.414606</td>\n",
       "      <td>34.5</td>\n",
       "      <td>270.719396</td>\n",
       "      <td>33490</td>\n",
       "      <td>4275.622</td>\n",
       "      <td>4275.622</td>\n",
       "    </tr>\n",
       "    <tr>\n",
       "      <th>8</th>\n",
       "      <td>2017</td>\n",
       "      <td>3898.149</td>\n",
       "      <td>499.353</td>\n",
       "      <td>7056.0</td>\n",
       "      <td>12664.5</td>\n",
       "      <td>40377</td>\n",
       "      <td>103.9</td>\n",
       "      <td>75.3</td>\n",
       "      <td>27227.700000</td>\n",
       "      <td>38.014384</td>\n",
       "      <td>17.552552</td>\n",
       "      <td>35.0</td>\n",
       "      <td>272.336337</td>\n",
       "      <td>34114</td>\n",
       "      <td>4397.502</td>\n",
       "      <td>4397.502</td>\n",
       "    </tr>\n",
       "    <tr>\n",
       "      <th>9</th>\n",
       "      <td>2018</td>\n",
       "      <td>4009.887</td>\n",
       "      <td>500.287</td>\n",
       "      <td>7400.4</td>\n",
       "      <td>14508.4</td>\n",
       "      <td>42813</td>\n",
       "      <td>107.6</td>\n",
       "      <td>75.7</td>\n",
       "      <td>27379.826828</td>\n",
       "      <td>38.342123</td>\n",
       "      <td>17.812739</td>\n",
       "      <td>31.5</td>\n",
       "      <td>273.966886</td>\n",
       "      <td>32887</td>\n",
       "      <td>4510.174</td>\n",
       "      <td>4510.174</td>\n",
       "    </tr>\n",
       "  </tbody>\n",
       "</table>\n",
       "</div>"
      ],
      "text/plain": [
       "   Year   Num_LGV  Num_HGV  OL_Sales  OffL_Sales  Dispo_Income  GDP_Deflator  \\\n",
       "0  2009  3223.728  498.626    1728.9      3574.8         43967          79.2   \n",
       "1  2010  3207.791  470.128    2024.6      4194.9         48655          81.1   \n",
       "2  2011  3248.293  465.473    2613.7      5020.9         46667          83.3   \n",
       "3  2012  3207.791  470.128    2772.2      5916.1         48546          86.1   \n",
       "4  2013  3353.894  468.876    3660.7      6880.5         43485          89.5   \n",
       "5  2014  3485.657  476.010    4634.5      7915.5         45977          93.4   \n",
       "6  2015  3633.578  483.361    4430.7      9013.3         43661          96.1   \n",
       "7  2016  3781.984  493.638    6037.4     10937.1         37869         100.0   \n",
       "8  2017  3898.149  499.353    7056.0     12664.5         40377         103.9   \n",
       "9  2018  4009.887  500.287    7400.4     14508.4         42813         107.6   \n",
       "\n",
       "   Employ_Rate  Num_household  Per_Childern  Per_Retired  Neighb_Trust  \\\n",
       "0         71.3   26041.800000     37.532479    15.606431          20.0   \n",
       "1         70.8   26240.200000     37.760601    15.807613          27.0   \n",
       "2         70.6   26408.600000     37.457668    16.143746          26.5   \n",
       "3         71.4   26614.000000     37.995699    16.421021          23.0   \n",
       "4         71.9   26660.600000     38.233324    16.857928          23.0   \n",
       "5         73.2   26731.900000     38.121335    17.074991          28.0   \n",
       "6         73.9   27041.500000     38.442945    17.378274          34.0   \n",
       "7         74.7   27088.700000     38.552387    17.414606          34.5   \n",
       "8         75.3   27227.700000     38.014384    17.552552          35.0   \n",
       "9         75.7   27379.826828     38.342123    17.812739          31.5   \n",
       "\n",
       "   Popu_Density  Num_PassenCars  Num_freight  Num_Freight  \n",
       "0    254.817444           16653     3722.354     3722.354  \n",
       "1    256.755673           19686     3677.919     3677.919  \n",
       "2    260.974865           20828     3713.766     3713.766  \n",
       "3    262.706448           21206     3677.919     3677.919  \n",
       "4    264.358853           25188     3822.770     3822.770  \n",
       "5    266.384049           28047     3961.667     3961.667  \n",
       "6    268.500381           31554     4116.939     4116.939  \n",
       "7    270.719396           33490     4275.622     4275.622  \n",
       "8    272.336337           34114     4397.502     4397.502  \n",
       "9    273.966886           32887     4510.174     4510.174  "
      ]
     },
     "execution_count": 49,
     "metadata": {},
     "output_type": "execute_result"
    }
   ],
   "source": [
    "#Merge date with time and next create new column with datetime type.\n",
    "#crime['Date'] = crime['CrimeDate'] + ' ' +  crime['CrimeTime']\n",
    "#crime['Date'] = pd.to_datetime(crime['Date'])\n",
    "\n",
    "data['Num_Freight']=data['Num_LGV']+data['Num_HGV']\n",
    "data"
   ]
  },
  {
   "cell_type": "code",
   "execution_count": 73,
   "metadata": {},
   "outputs": [
    {
     "data": {
      "text/plain": [
       "(10, 14)"
      ]
     },
     "execution_count": 73,
     "metadata": {},
     "output_type": "execute_result"
    }
   ],
   "source": [
    "data.shape"
   ]
  },
  {
   "cell_type": "code",
   "execution_count": 8,
   "metadata": {},
   "outputs": [
    {
     "data": {
      "text/plain": [
       "count      10.000000\n",
       "mean     3505.075200\n",
       "std       306.886765\n",
       "min      3207.791000\n",
       "25%      3229.869250\n",
       "50%      3419.775500\n",
       "75%      3744.882500\n",
       "max      4009.887000\n",
       "Name: Num_LGV, dtype: float64"
      ]
     },
     "execution_count": 8,
     "metadata": {},
     "output_type": "execute_result"
    }
   ],
   "source": [
    "data.Num_LGV.describe()"
   ]
  },
  {
   "cell_type": "code",
   "execution_count": 9,
   "metadata": {},
   "outputs": [
    {
     "data": {
      "text/plain": [
       "count     10.000000\n",
       "mean     482.588000\n",
       "std       14.177262\n",
       "min      465.473000\n",
       "25%      470.128000\n",
       "50%      479.685500\n",
       "75%      497.379000\n",
       "max      500.287000\n",
       "Name: Num_HGV, dtype: float64"
      ]
     },
     "execution_count": 9,
     "metadata": {},
     "output_type": "execute_result"
    }
   ],
   "source": [
    "data.Num_HGV.describe()"
   ]
  },
  {
   "cell_type": "code",
   "execution_count": 32,
   "metadata": {},
   "outputs": [
    {
     "data": {
      "text/plain": [
       "count      10.000000\n",
       "mean     3987.663200\n",
       "std       317.240714\n",
       "min      3677.919000\n",
       "25%      3715.913000\n",
       "50%      3892.218500\n",
       "75%      4235.951250\n",
       "max      4510.174000\n",
       "Name: Num_Freight, dtype: float64"
      ]
     },
     "execution_count": 32,
     "metadata": {},
     "output_type": "execute_result"
    }
   ],
   "source": [
    "data.Num_Freight.describe()"
   ]
  },
  {
   "cell_type": "code",
   "execution_count": 47,
   "metadata": {},
   "outputs": [
    {
     "data": {
      "text/plain": [
       "Text(0, 0.5, 'Number of HGV (Thousand)')"
      ]
     },
     "execution_count": 47,
     "metadata": {},
     "output_type": "execute_result"
    },
    {
     "data": {
      "image/png": "[encoded data removed]",
      "text/plain": [
       "<Figure size 720x360 with 1 Axes>"
      ]
     },
     "metadata": {},
     "output_type": "display_data"
    }
   ],
   "source": [
    "import seaborn as sns\n",
    "import matplotlib.pyplot as plt\n",
    "\n",
    "sns.set_style(style='darkgrid')\n",
    "plt.figure(figsize=(10,5))\n",
    "# plot a darkgrid with 8*5\n",
    "\n",
    "plt.scatter(data.Year,data.Num_HGV,color = 'Red')\n",
    "plt.title('Number of HGV from 2009 to 2018')\n",
    "plt.xlabel('Year') #name the x axis as \"Type of weapon\"\n",
    "plt.ylabel('Number of HGV (Thousand)')"
   ]
  },
  {
   "cell_type": "code",
   "execution_count": null,
   "metadata": {},
   "outputs": [],
   "source": []
  },
  {
   "cell_type": "code",
   "execution_count": 44,
   "metadata": {},
   "outputs": [
    {
     "data": {
      "text/plain": [
       "Text(0, 0.5, 'Number of LGV (Thousand)')"
      ]
     },
     "execution_count": 44,
     "metadata": {},
     "output_type": "execute_result"
    },
    {
     "data": {
      "image/png": "[encoded data removed]",
      "text/plain": [
       "<Figure size 720x360 with 1 Axes>"
      ]
     },
     "metadata": {},
     "output_type": "display_data"
    }
   ],
   "source": [
    "import seaborn as sns\n",
    "import matplotlib.pyplot as plt\n",
    "\n",
    "sns.set_style(style='darkgrid')\n",
    "plt.figure(figsize=(10,5))\n",
    "# plot a darkgrid with 8*5\n",
    "\n",
    "plt.scatter(data.Year,data.Num_LGV,color = 'b')\n",
    "plt.title('Number of LGV from 2009 to 2018')\n",
    "plt.xlabel('Year') #name the x axis as \"Type of weapon\"\n",
    "plt.ylabel('Number of LGV (Thousand)')"
   ]
  },
  {
   "cell_type": "code",
   "execution_count": 7,
   "metadata": {},
   "outputs": [
    {
     "data": {
      "text/plain": [
       "Text(0, 0.5, 'Number of Freight Transport (Thousand)')"
      ]
     },
     "execution_count": 7,
     "metadata": {},
     "output_type": "execute_result"
    },
    {
     "data": {
      "image/png": "[encoded data removed]",
      "text/plain": [
       "<Figure size 720x360 with 1 Axes>"
      ]
     },
     "metadata": {},
     "output_type": "display_data"
    }
   ],
   "source": [
    "import seaborn as sns\n",
    "import matplotlib.pyplot as plt\n",
    "\n",
    "sns.set_style(style='darkgrid')\n",
    "plt.figure(figsize=(10,5))\n",
    "# plot a darkgrid with 8*5\n",
    "\n",
    "plt.scatter(data.Year,data.Num_Freight,color = 'b')\n",
    "plt.title('Number of Freight Transport from 2009 to 2018')\n",
    "plt.xlabel('Year') #name the x axis as \"Type of weapon\"\n",
    "plt.ylabel('Number of Freight Transport (Thousand)')"
   ]
  },
  {
   "cell_type": "code",
   "execution_count": null,
   "metadata": {},
   "outputs": [],
   "source": []
  },
  {
   "cell_type": "code",
   "execution_count": null,
   "metadata": {},
   "outputs": [],
   "source": []
  },
  {
   "cell_type": "code",
   "execution_count": null,
   "metadata": {},
   "outputs": [],
   "source": []
  },
  {
   "cell_type": "code",
   "execution_count": 42,
   "metadata": {},
   "outputs": [
    {
     "data": {
      "text/plain": [
       "Text(0, 0.5, 'Internet Retail Sales (Billions)')"
      ]
     },
     "execution_count": 42,
     "metadata": {},
     "output_type": "execute_result"
    },
    {
     "data": {
      "image/png": "[encoded data removed]",
      "text/plain": [
       "<Figure size 720x360 with 1 Axes>"
      ]
     },
     "metadata": {},
     "output_type": "display_data"
    }
   ],
   "source": [
    "import seaborn as sns\n",
    "import matplotlib.pyplot as plt\n",
    "\n",
    "sns.set_style(style='darkgrid')\n",
    "plt.figure(figsize=(10,5))\n",
    "# plot a darkgrid with 8*5\n",
    "\n",
    "plt.scatter(data.Year,data.OL_Sales,color = 'Green')\n",
    "plt.title('Internet Retail Sales from 2009 to 2018')\n",
    "plt.xlabel('Year') #name the x axis as \"Type of weapon\"\n",
    "plt.ylabel('Internet Retail Sales (Billions)')\n"
   ]
  },
  {
   "cell_type": "code",
   "execution_count": null,
   "metadata": {},
   "outputs": [],
   "source": []
  },
  {
   "cell_type": "code",
   "execution_count": null,
   "metadata": {},
   "outputs": [],
   "source": []
  },
  {
   "cell_type": "code",
   "execution_count": null,
   "metadata": {},
   "outputs": [],
   "source": []
  },
  {
   "cell_type": "code",
   "execution_count": null,
   "metadata": {},
   "outputs": [],
   "source": [
    "Num_LGV\tNum_HGV\tOL_Sales\tOffL_Sales\tDispo_Income\tGDP_Deflator\tEmploy_Rate\tNum_household\tPer_Childern\tPer_Retired\tNeighb_Trust\tPopu_Density\tNum_PassenCars"
   ]
  },
  {
   "cell_type": "code",
   "execution_count": 47,
   "metadata": {},
   "outputs": [
    {
     "data": {
      "text/plain": [
       "Text(0, 0.5, ' Number of Popu_Density')"
      ]
     },
     "execution_count": 47,
     "metadata": {},
     "output_type": "execute_result"
    },
    {
     "data": {
      "image/png": "[encoded data removed]",
      "text/plain": [
       "<Figure size 720x360 with 1 Axes>"
      ]
     },
     "metadata": {},
     "output_type": "display_data"
    }
   ],
   "source": [
    "import seaborn as sns\n",
    "import matplotlib.pyplot as plt\n",
    "\n",
    "sns.set_style(style='darkgrid')\n",
    "plt.figure(figsize=(10,5))\n",
    "# plot a darkgrid with 8*5\n",
    "\n",
    "plt.scatter(data.Num_Freight,data.Popu_Density,color = 'b')\n",
    "\n",
    "\n",
    "plt.title('Scatter Plot of Popu_Density')\n",
    "plt.xlabel('Number of Freight Vehicels') #name the x axis as \"Type of weapon\"\n",
    "plt.ylabel(' Number of Popu_Density')\n"
   ]
  },
  {
   "cell_type": "code",
   "execution_count": 35,
   "metadata": {},
   "outputs": [
    {
     "data": {
      "text/plain": [
       "Text(0, 0.5, ' Number of OffL_Sales')"
      ]
     },
     "execution_count": 35,
     "metadata": {},
     "output_type": "execute_result"
    },
    {
     "data": {
      "image/png": "[encoded data removed]",
      "text/plain": [
       "<Figure size 720x360 with 1 Axes>"
      ]
     },
     "metadata": {},
     "output_type": "display_data"
    }
   ],
   "source": [
    "import seaborn as sns\n",
    "import matplotlib.pyplot as plt\n",
    "\n",
    "sns.set_style(style='darkgrid')\n",
    "plt.figure(figsize=(10,5))\n",
    "# plot a darkgrid with 8*5\n",
    "\n",
    "plt.scatter(data.Num_Freight,data.OffL_Sales,color = 'b')\n",
    "\n",
    "\n",
    "plt.title('Scatter Plot of OffL_Sales')\n",
    "plt.xlabel('Number of Freight Vehicels') #name the x axis as \"Type of weapon\"\n",
    "plt.ylabel(' Number of OffL_Sales')"
   ]
  },
  {
   "cell_type": "code",
   "execution_count": null,
   "metadata": {},
   "outputs": [],
   "source": []
  },
  {
   "cell_type": "code",
   "execution_count": 10,
   "metadata": {},
   "outputs": [
    {
     "data": {
      "text/plain": [
       "(10, 16)"
      ]
     },
     "execution_count": 10,
     "metadata": {},
     "output_type": "execute_result"
    }
   ],
   "source": [
    "data.shape"
   ]
  },
  {
   "cell_type": "code",
   "execution_count": 63,
   "metadata": {
    "scrolled": false
   },
   "outputs": [
    {
     "data": {
      "text/html": [
       "<div>\n",
       "<style scoped>\n",
       "    .dataframe tbody tr th:only-of-type {\n",
       "        vertical-align: middle;\n",
       "    }\n",
       "\n",
       "    .dataframe tbody tr th {\n",
       "        vertical-align: top;\n",
       "    }\n",
       "\n",
       "    .dataframe thead th {\n",
       "        text-align: right;\n",
       "    }\n",
       "</style>\n",
       "<table border=\"1\" class=\"dataframe\">\n",
       "  <thead>\n",
       "    <tr style=\"text-align: right;\">\n",
       "      <th></th>\n",
       "      <th>Num_LGV</th>\n",
       "      <th>Num_HGV</th>\n",
       "      <th>OL_Sales</th>\n",
       "      <th>OffL_Sales</th>\n",
       "      <th>GDP_Deflator</th>\n",
       "      <th>Employ_Rate</th>\n",
       "      <th>Num_household</th>\n",
       "      <th>Per_Retired</th>\n",
       "      <th>Popu_Density</th>\n",
       "      <th>Num_PassenCars</th>\n",
       "      <th>Num_Freight</th>\n",
       "    </tr>\n",
       "  </thead>\n",
       "  <tbody>\n",
       "    <tr>\n",
       "      <th>0</th>\n",
       "      <td>3223.728</td>\n",
       "      <td>498.626</td>\n",
       "      <td>1728.9</td>\n",
       "      <td>3574.8</td>\n",
       "      <td>79.2</td>\n",
       "      <td>71.3</td>\n",
       "      <td>26041.800000</td>\n",
       "      <td>15.606431</td>\n",
       "      <td>254.817444</td>\n",
       "      <td>16653</td>\n",
       "      <td>3722.354</td>\n",
       "    </tr>\n",
       "    <tr>\n",
       "      <th>1</th>\n",
       "      <td>3207.791</td>\n",
       "      <td>470.128</td>\n",
       "      <td>2024.6</td>\n",
       "      <td>4194.9</td>\n",
       "      <td>81.1</td>\n",
       "      <td>70.8</td>\n",
       "      <td>26240.200000</td>\n",
       "      <td>15.807613</td>\n",
       "      <td>256.755673</td>\n",
       "      <td>19686</td>\n",
       "      <td>3677.919</td>\n",
       "    </tr>\n",
       "    <tr>\n",
       "      <th>2</th>\n",
       "      <td>3248.293</td>\n",
       "      <td>465.473</td>\n",
       "      <td>2613.7</td>\n",
       "      <td>5020.9</td>\n",
       "      <td>83.3</td>\n",
       "      <td>70.6</td>\n",
       "      <td>26408.600000</td>\n",
       "      <td>16.143746</td>\n",
       "      <td>260.974865</td>\n",
       "      <td>20828</td>\n",
       "      <td>3713.766</td>\n",
       "    </tr>\n",
       "    <tr>\n",
       "      <th>3</th>\n",
       "      <td>3207.791</td>\n",
       "      <td>470.128</td>\n",
       "      <td>2772.2</td>\n",
       "      <td>5916.1</td>\n",
       "      <td>86.1</td>\n",
       "      <td>71.4</td>\n",
       "      <td>26614.000000</td>\n",
       "      <td>16.421021</td>\n",
       "      <td>262.706448</td>\n",
       "      <td>21206</td>\n",
       "      <td>3677.919</td>\n",
       "    </tr>\n",
       "    <tr>\n",
       "      <th>4</th>\n",
       "      <td>3353.894</td>\n",
       "      <td>468.876</td>\n",
       "      <td>3660.7</td>\n",
       "      <td>6880.5</td>\n",
       "      <td>89.5</td>\n",
       "      <td>71.9</td>\n",
       "      <td>26660.600000</td>\n",
       "      <td>16.857928</td>\n",
       "      <td>264.358853</td>\n",
       "      <td>25188</td>\n",
       "      <td>3822.770</td>\n",
       "    </tr>\n",
       "    <tr>\n",
       "      <th>5</th>\n",
       "      <td>3485.657</td>\n",
       "      <td>476.010</td>\n",
       "      <td>4634.5</td>\n",
       "      <td>7915.5</td>\n",
       "      <td>93.4</td>\n",
       "      <td>73.2</td>\n",
       "      <td>26731.900000</td>\n",
       "      <td>17.074991</td>\n",
       "      <td>266.384049</td>\n",
       "      <td>28047</td>\n",
       "      <td>3961.667</td>\n",
       "    </tr>\n",
       "    <tr>\n",
       "      <th>6</th>\n",
       "      <td>3633.578</td>\n",
       "      <td>483.361</td>\n",
       "      <td>4430.7</td>\n",
       "      <td>9013.3</td>\n",
       "      <td>96.1</td>\n",
       "      <td>73.9</td>\n",
       "      <td>27041.500000</td>\n",
       "      <td>17.378274</td>\n",
       "      <td>268.500381</td>\n",
       "      <td>31554</td>\n",
       "      <td>4116.939</td>\n",
       "    </tr>\n",
       "    <tr>\n",
       "      <th>7</th>\n",
       "      <td>3781.984</td>\n",
       "      <td>493.638</td>\n",
       "      <td>6037.4</td>\n",
       "      <td>10937.1</td>\n",
       "      <td>100.0</td>\n",
       "      <td>74.7</td>\n",
       "      <td>27088.700000</td>\n",
       "      <td>17.414606</td>\n",
       "      <td>270.719396</td>\n",
       "      <td>33490</td>\n",
       "      <td>4275.622</td>\n",
       "    </tr>\n",
       "    <tr>\n",
       "      <th>8</th>\n",
       "      <td>3898.149</td>\n",
       "      <td>499.353</td>\n",
       "      <td>7056.0</td>\n",
       "      <td>12664.5</td>\n",
       "      <td>103.9</td>\n",
       "      <td>75.3</td>\n",
       "      <td>27227.700000</td>\n",
       "      <td>17.552552</td>\n",
       "      <td>272.336337</td>\n",
       "      <td>34114</td>\n",
       "      <td>4397.502</td>\n",
       "    </tr>\n",
       "    <tr>\n",
       "      <th>9</th>\n",
       "      <td>4009.887</td>\n",
       "      <td>500.287</td>\n",
       "      <td>7400.4</td>\n",
       "      <td>14508.4</td>\n",
       "      <td>107.6</td>\n",
       "      <td>75.7</td>\n",
       "      <td>27379.826828</td>\n",
       "      <td>17.812739</td>\n",
       "      <td>273.966886</td>\n",
       "      <td>32887</td>\n",
       "      <td>4510.174</td>\n",
       "    </tr>\n",
       "  </tbody>\n",
       "</table>\n",
       "</div>"
      ],
      "text/plain": [
       "    Num_LGV  Num_HGV  OL_Sales  OffL_Sales  GDP_Deflator  Employ_Rate  \\\n",
       "0  3223.728  498.626    1728.9      3574.8          79.2         71.3   \n",
       "1  3207.791  470.128    2024.6      4194.9          81.1         70.8   \n",
       "2  3248.293  465.473    2613.7      5020.9          83.3         70.6   \n",
       "3  3207.791  470.128    2772.2      5916.1          86.1         71.4   \n",
       "4  3353.894  468.876    3660.7      6880.5          89.5         71.9   \n",
       "5  3485.657  476.010    4634.5      7915.5          93.4         73.2   \n",
       "6  3633.578  483.361    4430.7      9013.3          96.1         73.9   \n",
       "7  3781.984  493.638    6037.4     10937.1         100.0         74.7   \n",
       "8  3898.149  499.353    7056.0     12664.5         103.9         75.3   \n",
       "9  4009.887  500.287    7400.4     14508.4         107.6         75.7   \n",
       "\n",
       "   Num_household  Per_Retired  Popu_Density  Num_PassenCars  Num_Freight  \n",
       "0   26041.800000    15.606431    254.817444           16653     3722.354  \n",
       "1   26240.200000    15.807613    256.755673           19686     3677.919  \n",
       "2   26408.600000    16.143746    260.974865           20828     3713.766  \n",
       "3   26614.000000    16.421021    262.706448           21206     3677.919  \n",
       "4   26660.600000    16.857928    264.358853           25188     3822.770  \n",
       "5   26731.900000    17.074991    266.384049           28047     3961.667  \n",
       "6   27041.500000    17.378274    268.500381           31554     4116.939  \n",
       "7   27088.700000    17.414606    270.719396           33490     4275.622  \n",
       "8   27227.700000    17.552552    272.336337           34114     4397.502  \n",
       "9   27379.826828    17.812739    273.966886           32887     4510.174  "
      ]
     },
     "execution_count": 63,
     "metadata": {},
     "output_type": "execute_result"
    }
   ],
   "source": [
    "data1 = data.drop(['Year','Dispo_Income', 'Per_Childern','Neighb_Trust','Num_freight'], axis=1)\n",
    "data1"
   ]
  },
  {
   "cell_type": "code",
   "execution_count": 64,
   "metadata": {},
   "outputs": [
    {
     "name": "stdout",
     "output_type": "stream",
     "text": [
      "                 Num_LGV   Num_HGV  OL_Sales  OffL_Sales  GDP_Deflator  \\\n",
      "Num_LGV         1.000000  0.719542  0.977254    0.981714      0.976553   \n",
      "Num_HGV         0.719542  1.000000  0.620267    0.629238      0.594990   \n",
      "OL_Sales        0.977254  0.620267  1.000000    0.990515      0.990562   \n",
      "OffL_Sales      0.981714  0.629238  0.990515    1.000000      0.994086   \n",
      "GDP_Deflator    0.976553  0.594990  0.990562    0.994086      1.000000   \n",
      "Employ_Rate     0.984317  0.734968  0.967430    0.967698      0.974271   \n",
      "Num_household   0.933219  0.482798  0.954751    0.969593      0.981624   \n",
      "Per_Retired     0.914063  0.450161  0.944292    0.944864      0.972225   \n",
      "Popu_Density    0.928754  0.466817  0.964868    0.965760      0.982039   \n",
      "Num_PassenCars  0.935062  0.505713  0.946180    0.934378      0.962923   \n",
      "Num_Freight     0.999518  0.740748  0.973078    0.977793      0.971270   \n",
      "\n",
      "                Employ_Rate  Num_household  Per_Retired  Popu_Density  \\\n",
      "Num_LGV            0.984317       0.933219     0.914063      0.928754   \n",
      "Num_HGV            0.734968       0.482798     0.450161      0.466817   \n",
      "OL_Sales           0.967430       0.954751     0.944292      0.964868   \n",
      "OffL_Sales         0.967698       0.969593     0.944864      0.965760   \n",
      "GDP_Deflator       0.974271       0.981624     0.972225      0.982039   \n",
      "Employ_Rate        1.000000       0.932067     0.927496      0.928621   \n",
      "Num_household      0.932067       1.000000     0.981996      0.992517   \n",
      "Per_Retired        0.927496       0.981996     1.000000      0.988765   \n",
      "Popu_Density       0.928621       0.992517     0.988765      1.000000   \n",
      "Num_PassenCars     0.944790       0.962172     0.973910      0.967867   \n",
      "Num_Freight        0.985036       0.924337     0.904348      0.919303   \n",
      "\n",
      "                Num_PassenCars  Num_Freight  \n",
      "Num_LGV               0.935062     0.999518  \n",
      "Num_HGV               0.505713     0.740748  \n",
      "OL_Sales              0.946180     0.973078  \n",
      "OffL_Sales            0.934378     0.977793  \n",
      "GDP_Deflator          0.962923     0.971270  \n",
      "Employ_Rate           0.944790     0.985036  \n",
      "Num_household         0.962172     0.924337  \n",
      "Per_Retired           0.973910     0.904348  \n",
      "Popu_Density          0.967867     0.919303  \n",
      "Num_PassenCars        1.000000     0.927144  \n",
      "Num_Freight           0.927144     1.000000  \n"
     ]
    }
   ],
   "source": [
    "rDf = data1.corr()\n",
    "print(rDf)"
   ]
  },
  {
   "cell_type": "code",
   "execution_count": null,
   "metadata": {},
   "outputs": [],
   "source": []
  },
  {
   "cell_type": "code",
   "execution_count": null,
   "metadata": {},
   "outputs": [],
   "source": []
  },
  {
   "cell_type": "code",
   "execution_count": null,
   "metadata": {},
   "outputs": [],
   "source": []
  },
  {
   "cell_type": "code",
   "execution_count": 58,
   "metadata": {},
   "outputs": [
    {
     "name": "stdout",
     "output_type": "stream",
     "text": [
      "                            OLS Regression Results                            \n",
      "==============================================================================\n",
      "Dep. Variable:            Num_Freight   R-squared:                       0.947\n",
      "Model:                            OLS   Adj. R-squared:                  0.940\n",
      "Method:                 Least Squares   F-statistic:                     142.6\n",
      "Date:                Mon, 07 Sep 2020   Prob (F-statistic):           2.22e-06\n",
      "Time:                        14:56:43   Log-Likelihood:                -56.583\n",
      "No. Observations:                  10   AIC:                             117.2\n",
      "Df Residuals:                       8   BIC:                             117.8\n",
      "Df Model:                           1                                         \n",
      "Covariance Type:            nonrobust                                         \n",
      "==============================================================================\n",
      "                 coef    std err          t      P>|t|      [0.025      0.975]\n",
      "------------------------------------------------------------------------------\n",
      "Intercept   3348.6679     58.861     56.891      0.000    3212.934    3484.402\n",
      "OL_Sales       0.1509      0.013     11.942      0.000       0.122       0.180\n",
      "==============================================================================\n",
      "Omnibus:                        0.925   Durbin-Watson:                   1.264\n",
      "Prob(Omnibus):                  0.630   Jarque-Bera (JB):                0.650\n",
      "Skew:                           0.209   Prob(JB):                        0.723\n",
      "Kurtosis:                       1.823   Cond. No.                     1.12e+04\n",
      "==============================================================================\n",
      "\n",
      "Warnings:\n",
      "[1] Standard Errors assume that the covariance matrix of the errors is correctly specified.\n",
      "[2] The condition number is large, 1.12e+04. This might indicate that there are\n",
      "strong multicollinearity or other numerical problems.\n"
     ]
    },
    {
     "name": "stderr",
     "output_type": "stream",
     "text": [
      "C:\\Users\\Yufei\\anaconda3\\lib\\site-packages\\scipy\\stats\\stats.py:1603: UserWarning: kurtosistest only valid for n>=20 ... continuing anyway, n=10\n",
      "  warnings.warn(\"kurtosistest only valid for n>=20 ... continuing \"\n"
     ]
    }
   ],
   "source": [
    "import statsmodels.formula.api as sm\n",
    "model = sm.ols(formula = 'Num_Freight~OL_Sales ',data = data).fit()\n",
    "\n",
    "print(model.summary()) \n",
    "               \n"
   ]
  },
  {
   "cell_type": "code",
   "execution_count": 31,
   "metadata": {},
   "outputs": [
    {
     "name": "stdout",
     "output_type": "stream",
     "text": [
      "                            OLS Regression Results                            \n",
      "==============================================================================\n",
      "Dep. Variable:            Num_Freight   R-squared:                       0.947\n",
      "Model:                            OLS   Adj. R-squared:                  0.940\n",
      "Method:                 Least Squares   F-statistic:                     142.6\n",
      "Date:                Mon, 07 Sep 2020   Prob (F-statistic):           2.22e-06\n",
      "Time:                        13:09:35   Log-Likelihood:                -56.583\n",
      "No. Observations:                  10   AIC:                             117.2\n",
      "Df Residuals:                       8   BIC:                             117.8\n",
      "Df Model:                           1                                         \n",
      "Covariance Type:            nonrobust                                         \n",
      "==============================================================================\n",
      "                 coef    std err          t      P>|t|      [0.025      0.975]\n",
      "------------------------------------------------------------------------------\n",
      "Intercept   3348.6679     58.861     56.891      0.000    3212.934    3484.402\n",
      "OL_Sales       0.1509      0.013     11.942      0.000       0.122       0.180\n",
      "==============================================================================\n",
      "Omnibus:                        0.925   Durbin-Watson:                   1.264\n",
      "Prob(Omnibus):                  0.630   Jarque-Bera (JB):                0.650\n",
      "Skew:                           0.209   Prob(JB):                        0.723\n",
      "Kurtosis:                       1.823   Cond. No.                     1.12e+04\n",
      "==============================================================================\n",
      "\n",
      "Warnings:\n",
      "[1] Standard Errors assume that the covariance matrix of the errors is correctly specified.\n",
      "[2] The condition number is large, 1.12e+04. This might indicate that there are\n",
      "strong multicollinearity or other numerical problems.\n"
     ]
    }
   ],
   "source": [
    "import statsmodels.formula.api as sm\n",
    "model = sm.ols(formula = 'Num_Freight~OL_Sales ',data = data).fit()\n",
    "\n",
    "print(model.summary()) "
   ]
  },
  {
   "cell_type": "code",
   "execution_count": null,
   "metadata": {},
   "outputs": [],
   "source": []
  },
  {
   "cell_type": "code",
   "execution_count": null,
   "metadata": {},
   "outputs": [],
   "source": []
  },
  {
   "cell_type": "code",
   "execution_count": null,
   "metadata": {},
   "outputs": [],
   "source": []
  },
  {
   "cell_type": "code",
   "execution_count": null,
   "metadata": {},
   "outputs": [],
   "source": [
    "OL_Sales\tOffL_Sales\tGDP_Deflator\tEmploy_Rate\tNum_household\tPer_Retired\tPopu_Density\tNum_PassenCars"
   ]
  },
  {
   "cell_type": "code",
   "execution_count": 29,
   "metadata": {},
   "outputs": [
    {
     "name": "stdout",
     "output_type": "stream",
     "text": [
      "                            OLS Regression Results                            \n",
      "==============================================================================\n",
      "Dep. Variable:            Num_Freight   R-squared:                       0.969\n",
      "Model:                            OLS   Adj. R-squared:                  0.907\n",
      "Method:                 Least Squares   F-statistic:                     15.62\n",
      "Date:                Mon, 07 Sep 2020   Prob (F-statistic):             0.0230\n",
      "Time:                        12:52:13   Log-Likelihood:                -53.893\n",
      "No. Observations:                  10   AIC:                             121.8\n",
      "Df Residuals:                       3   BIC:                             123.9\n",
      "Df Model:                           6                                         \n",
      "Covariance Type:            nonrobust                                         \n",
      "==================================================================================\n",
      "                     coef    std err          t      P>|t|      [0.025      0.975]\n",
      "----------------------------------------------------------------------------------\n",
      "Intercept       8492.3485   1.09e+04      0.776      0.494   -2.63e+04    4.33e+04\n",
      "OL_Sales           0.2265      0.083      2.716      0.073      -0.039       0.492\n",
      "Per_Childern      70.9477    215.855      0.329      0.764    -615.998     757.893\n",
      "Per_Retired      352.4816    551.794      0.639      0.568   -1403.573    2108.537\n",
      "Neighb_Trust      23.4944     25.870      0.908      0.431     -58.837     105.826\n",
      "Popu_Density     -52.3270     52.325     -1.000      0.391    -218.849     114.195\n",
      "Num_PassenCars    -0.0333      0.060     -0.555      0.618      -0.224       0.157\n",
      "==============================================================================\n",
      "Omnibus:                        0.007   Durbin-Watson:                   2.409\n",
      "Prob(Omnibus):                  0.996   Jarque-Bera (JB):                0.199\n",
      "Skew:                           0.048   Prob(JB):                        0.905\n",
      "Kurtosis:                       2.316   Cond. No.                     9.82e+06\n",
      "==============================================================================\n",
      "\n",
      "Warnings:\n",
      "[1] Standard Errors assume that the covariance matrix of the errors is correctly specified.\n",
      "[2] The condition number is large, 9.82e+06. This might indicate that there are\n",
      "strong multicollinearity or other numerical problems.\n"
     ]
    }
   ],
   "source": [
    "import statsmodels.formula.api as sm\n",
    "model = sm.ols(formula = 'Num_Freight~OL_Sales+OffL_Sales+Per_Childern+Per_Retired+Neighb_Trust+Popu_Density+Num_PassenCars ',data = data).fit()\n",
    "\n",
    "print(model.summary()) "
   ]
  },
  {
   "cell_type": "code",
   "execution_count": null,
   "metadata": {},
   "outputs": [],
   "source": []
  },
  {
   "cell_type": "code",
   "execution_count": null,
   "metadata": {},
   "outputs": [],
   "source": [
    "Year\n",
    "Num_LGV\n",
    "Num_HGV\n",
    "OL_Sales\n",
    "OffL_Sales\n",
    "Dispo_Income\n",
    "GDP_Deflator\n",
    "Employ_Rate\n",
    "Num_household\n",
    "Per_Childern\n",
    "Per_Retired\n",
    "Neighb_Trust\n",
    "Popu_Density\n",
    "Num_PassenCars"
   ]
  },
  {
   "cell_type": "code",
   "execution_count": 16,
   "metadata": {},
   "outputs": [
    {
     "ename": "NameError",
     "evalue": "name 'OffL_Sales' is not defined",
     "output_type": "error",
     "traceback": [
      "\u001b[1;31m---------------------------------------------------------------------------\u001b[0m",
      "\u001b[1;31mNameError\u001b[0m                                 Traceback (most recent call last)",
      "\u001b[1;32m<ipython-input-16-68b4c70e3701>\u001b[0m in \u001b[0;36m<module>\u001b[1;34m\u001b[0m\n\u001b[1;32m----> 1\u001b[1;33m \u001b[1;33m+\u001b[0m\u001b[0mOffL_Sales\u001b[0m\u001b[1;33m\u001b[0m\u001b[1;33m\u001b[0m\u001b[0m\n\u001b[0m",
      "\u001b[1;31mNameError\u001b[0m: name 'OffL_Sales' is not defined"
     ]
    }
   ],
   "source": [
    "+OffL_Sales"
   ]
  },
  {
   "cell_type": "code",
   "execution_count": 62,
   "metadata": {},
   "outputs": [
    {
     "name": "stdout",
     "output_type": "stream",
     "text": [
      "                            OLS Regression Results                            \n",
      "==============================================================================\n",
      "Dep. Variable:            Num_Freight   R-squared:                       0.981\n",
      "Model:                            OLS   Adj. R-squared:                  0.943\n",
      "Method:                 Least Squares   F-statistic:                     25.63\n",
      "Date:                Mon, 07 Sep 2020   Prob (F-statistic):             0.0113\n",
      "Time:                        15:04:17   Log-Likelihood:                -51.478\n",
      "No. Observations:                  10   AIC:                             117.0\n",
      "Df Residuals:                       3   BIC:                             119.1\n",
      "Df Model:                           6                                         \n",
      "Covariance Type:            nonrobust                                         \n",
      "=================================================================================\n",
      "                    coef    std err          t      P>|t|      [0.025      0.975]\n",
      "---------------------------------------------------------------------------------\n",
      "Intercept      1.002e+04   1.14e+04      0.876      0.445   -2.64e+04    4.64e+04\n",
      "OL_Sales         -0.1019      0.260     -0.392      0.721      -0.929       0.726\n",
      "OffL_Sales       -0.0596      0.147     -0.405      0.713      -0.528       0.409\n",
      "GDP_Deflator    120.8971    112.366      1.076      0.361    -236.701     478.495\n",
      "Num_household    -0.3709      1.096     -0.338      0.757      -3.859       3.117\n",
      "Per_Retired    -408.6533    584.170     -0.700      0.535   -2267.744    1450.437\n",
      "Popu_Density      2.0269     86.307      0.023      0.983    -272.639     276.693\n",
      "==============================================================================\n",
      "Omnibus:                        1.233   Durbin-Watson:                   2.620\n",
      "Prob(Omnibus):                  0.540   Jarque-Bera (JB):                0.803\n",
      "Skew:                          -0.362   Prob(JB):                        0.669\n",
      "Kurtosis:                       1.815   Cond. No.                     1.35e+07\n",
      "==============================================================================\n",
      "\n",
      "Warnings:\n",
      "[1] Standard Errors assume that the covariance matrix of the errors is correctly specified.\n",
      "[2] The condition number is large, 1.35e+07. This might indicate that there are\n",
      "strong multicollinearity or other numerical problems.\n"
     ]
    }
   ],
   "source": [
    "import statsmodels.formula.api as sm\n",
    "model = sm.ols(formula = 'Num_Freight ~  OL_Sales+OffL_Sales+ GDP_Deflator ++Num_household+Per_Retired+Popu_Density',data = data).fit()\n",
    "print(model.summary()) \n",
    "\n"
   ]
  },
  {
   "cell_type": "code",
   "execution_count": null,
   "metadata": {},
   "outputs": [],
   "source": []
  },
  {
   "cell_type": "code",
   "execution_count": null,
   "metadata": {},
   "outputs": [],
   "source": [
    "+GDP_Deflator +Per_Childern+Num_household+Per_Retired+Popu_Density+Num_PassenCars\n",
    "\n",
    "Year\n",
    "Num_LGV\n",
    "Num_HGV\n",
    "OL_Sales\n",
    "OffL_Sales\n",
    "Dispo_Income\n",
    "GDP_Deflator\n",
    "Employ_Rate\n",
    "Num_household\n",
    "Per_Childern\n",
    "Per_Retired\n",
    "Neighb_Trust\n",
    "Popu_Density\n",
    "Num_PassenCars"
   ]
  },
  {
   "cell_type": "code",
   "execution_count": 30,
   "metadata": {},
   "outputs": [
    {
     "name": "stdout",
     "output_type": "stream",
     "text": [
      "                            OLS Regression Results                            \n",
      "==============================================================================\n",
      "Dep. Variable:            Num_Freight   R-squared:                       0.985\n",
      "Model:                            OLS   Adj. R-squared:                  0.954\n",
      "Method:                 Least Squares   F-statistic:                     31.99\n",
      "Date:                Mon, 07 Sep 2020   Prob (F-statistic):            0.00820\n",
      "Time:                        12:58:09   Log-Likelihood:                -50.389\n",
      "No. Observations:                  10   AIC:                             114.8\n",
      "Df Residuals:                       3   BIC:                             116.9\n",
      "Df Model:                           6                                         \n",
      "Covariance Type:            nonrobust                                         \n",
      "=================================================================================\n",
      "                    coef    std err          t      P>|t|      [0.025      0.975]\n",
      "---------------------------------------------------------------------------------\n",
      "Intercept      4865.4659   7619.833      0.639      0.569   -1.94e+04    2.91e+04\n",
      "OL_Sales          0.1571      0.055      2.875      0.064      -0.017       0.331\n",
      "Dispo_Income     -0.0177      0.011     -1.600      0.208      -0.053       0.017\n",
      "Per_Childern   -137.8346    161.614     -0.853      0.456    -652.163     376.494\n",
      "Num_household     1.0195      0.469      2.173      0.118      -0.474       2.513\n",
      "Per_Retired     260.7404    280.082      0.931      0.421    -630.606    1152.086\n",
      "Popu_Density   -102.4476     47.613     -2.152      0.121    -253.973      49.078\n",
      "==============================================================================\n",
      "Omnibus:                        2.176   Durbin-Watson:                   2.252\n",
      "Prob(Omnibus):                  0.337   Jarque-Bera (JB):                1.455\n",
      "Skew:                          -0.826   Prob(JB):                        0.483\n",
      "Kurtosis:                       2.126   Cond. No.                     1.84e+07\n",
      "==============================================================================\n",
      "\n",
      "Warnings:\n",
      "[1] Standard Errors assume that the covariance matrix of the errors is correctly specified.\n",
      "[2] The condition number is large, 1.84e+07. This might indicate that there are\n",
      "strong multicollinearity or other numerical problems.\n"
     ]
    }
   ],
   "source": [
    "import statsmodels.formula.api as sm\n",
    "model = sm.ols(formula = 'Num_Freight ~  OL_Sales+Dispo_Income+Per_Childern+Num_household+Per_Retired+Popu_Density ',data = data).fit()\n",
    "print(model.summary()) \n"
   ]
  },
  {
   "cell_type": "code",
   "execution_count": null,
   "metadata": {},
   "outputs": [],
   "source": []
  },
  {
   "cell_type": "code",
   "execution_count": null,
   "metadata": {},
   "outputs": [],
   "source": []
  },
  {
   "cell_type": "code",
   "execution_count": null,
   "metadata": {},
   "outputs": [],
   "source": []
  },
  {
   "cell_type": "code",
   "execution_count": null,
   "metadata": {},
   "outputs": [],
   "source": []
  },
  {
   "cell_type": "code",
   "execution_count": null,
   "metadata": {},
   "outputs": [],
   "source": []
  },
  {
   "cell_type": "code",
   "execution_count": null,
   "metadata": {},
   "outputs": [],
   "source": []
  },
  {
   "cell_type": "code",
   "execution_count": null,
   "metadata": {},
   "outputs": [],
   "source": []
  },
  {
   "cell_type": "code",
   "execution_count": null,
   "metadata": {},
   "outputs": [],
   "source": []
  },
  {
   "cell_type": "code",
   "execution_count": null,
   "metadata": {},
   "outputs": [],
   "source": []
  },
  {
   "cell_type": "code",
   "execution_count": null,
   "metadata": {},
   "outputs": [],
   "source": []
  }
 ],
 "metadata": {
  "kernelspec": {
   "display_name": "Python 3",
   "language": "python",
   "name": "python3"
  },
  "language_info": {
   "codemirror_mode": {
    "name": "ipython",
    "version": 3
   },
   "file_extension": ".py",
   "mimetype": "text/x-python",
   "name": "python",
   "nbconvert_exporter": "python",
   "pygments_lexer": "ipython3",
   "version": "3.8.3"
  }
 },
 "nbformat": 4,
 "nbformat_minor": 4
}
